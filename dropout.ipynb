{
 "cells": [
  {
   "cell_type": "markdown",
   "metadata": {
    "id": "Q1Di92jBvswB"
   },
   "source": [
    "# Implementation of Batch Normalization and Dropout"
   ]
  },
  {
   "cell_type": "code",
   "execution_count": 1,
   "metadata": {
    "id": "q8Zq7BEhv2S4"
   },
   "outputs": [
    {
     "ename": "SyntaxError",
     "evalue": "unexpected EOF while parsing (<ipython-input-1-109bb85d8cc4>, line 47)",
     "output_type": "error",
     "traceback": [
      "\u001b[1;36m  File \u001b[1;32m\"<ipython-input-1-109bb85d8cc4>\"\u001b[1;36m, line \u001b[1;32m47\u001b[0m\n\u001b[1;33m    #       .\u001b[0m\n\u001b[1;37m             ^\u001b[0m\n\u001b[1;31mSyntaxError\u001b[0m\u001b[1;31m:\u001b[0m unexpected EOF while parsing\n"
     ]
    }
   ],
   "source": [
    "import numpy as np\n",
    "\n",
    "# Función Sigmoide\n",
    "def sigmoid(x):\n",
    "    return 1 / (1 + np.exp(-x))\n",
    "\n",
    "def sigmoid_derivate(sig_output):\n",
    "    return sig_output*(1-sig_output)\n",
    "\n",
    "# Entrada y salida: Tamaño entrada = (4, 3), Tamaño salida = (4, 1)\n",
    "X = np.array([[0, 0, 1], [0, 1, 1], [1, 0, 1], [1, 1, 1]])\n",
    "y = np.array([[0], [1], [1], [0]])\n",
    "\n",
    "# Variables\n",
    "alpha = .5\n",
    "hidden_dim = 4\n",
    "dropout_percent = .2\n",
    "do_dropout = True\n",
    "weights_layer0 = 2 * np.random.random((3, hidden_dim)) - 1  # Tamaño (3, 4)\n",
    "weights_layer1 = 2 * np.random.random((hidden_dim, 1)) - 1  # Tamaño (4, 1)\n",
    "\n",
    "for j in range(100):\n",
    "    # Fordward pass Capa 1\n",
    "\n",
    "\n",
    "    if do_dropout:\n",
    "        # Aplicamos dropout\n",
    "        #       .\n",
    "        #       .\n",
    "        #       .\n",
    "\n",
    "    # Forward pass Capa 2\n",
    "    #       .\n",
    "    #       .\n",
    "    #       .\n",
    "\n",
    "    # Retro-propagación\n",
    "    #       .\n",
    "    #       .\n",
    "    #       .\n",
    "    \n",
    "    # Actualización de los pesos\n",
    "    #       .\n",
    "    #       .\n",
    "    #       ."
   ]
  },
  {
   "cell_type": "code",
   "execution_count": 2,
   "metadata": {},
   "outputs": [],
   "source": [
    "import numpy as np\n",
    "\n",
    "# Función Sigmoide\n",
    "def sigmoid(x):\n",
    "    return 1 / (1 + np.exp(-x))"
   ]
  },
  {
   "cell_type": "code",
   "execution_count": null,
   "metadata": {},
   "outputs": [],
   "source": []
  }
 ],
 "metadata": {
  "colab": {
   "authorship_tag": "ABX9TyOoEhZNMSJTVmJIdzB8kIq3",
   "collapsed_sections": [],
   "name": "dropout_solved.ipynb",
   "provenance": []
  },
  "kernelspec": {
   "display_name": "Python 3",
   "language": "python",
   "name": "python3"
  }
 },
 "nbformat": 4,
 "nbformat_minor": 1
}
